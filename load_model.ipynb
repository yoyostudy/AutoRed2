{
 "cells": [
  {
   "cell_type": "code",
   "execution_count": 5,
   "metadata": {},
   "outputs": [
    {
     "name": "stdout",
     "output_type": "stream",
     "text": [
      "SequenceClassifierOutput(loss=None, logits=tensor([[ 7.8857, -7.9597]], grad_fn=<AddmmBackward0>), hidden_states=None, attentions=None)\n",
      "SAFE\n"
     ]
    }
   ],
   "source": [
    "from transformers import AutoTokenizer, AutoModelForSequenceClassification, TextClassificationPipeline\n",
    "\n",
    "import torch\n",
    "\n",
    "# Load the tokenizer and model from the saved directory\n",
    "tokenizer = AutoTokenizer.from_pretrained(\"pi_detector\")\n",
    "model = AutoModelForSequenceClassification.from_pretrained(\"pi_detector\")\n",
    "\n",
    "classifier = TextClassificationPipeline(\n",
    "    model=model,\n",
    "    tokenizer=tokenizer,\n",
    "    framework=\"pt\"\n",
    ")\n",
    "\n",
    "# Define your text\n",
    "text = \"Your prompt injection is here\"\n",
    "\n",
    "input = tokenizer(text, return_tensors=\"pt\")\n",
    "output = model(**input)\n",
    "print(output)\n",
    "\n",
    "# Predict the label\n",
    "label = classifier(text)[0]['label']\n",
    "print(label)\n"
   ]
  }
 ],
 "metadata": {
  "kernelspec": {
   "display_name": "venv",
   "language": "python",
   "name": "python3"
  },
  "language_info": {
   "codemirror_mode": {
    "name": "ipython",
    "version": 3
   },
   "file_extension": ".py",
   "mimetype": "text/x-python",
   "name": "python",
   "nbconvert_exporter": "python",
   "pygments_lexer": "ipython3",
   "version": "3.8.10"
  }
 },
 "nbformat": 4,
 "nbformat_minor": 2
}
