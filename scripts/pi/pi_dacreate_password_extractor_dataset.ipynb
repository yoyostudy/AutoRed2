{
  "cells": [
    {
      "cell_type": "markdown",
      "metadata": {
        "colab_type": "text",
        "id": "view-in-github"
      },
      "source": [
        "<a href=\"https://colab.research.google.com/github/yoyostudy/RL4LM_PI/blob/main/create_password_extractor_dataset.ipynb\" target=\"_parent\"><img src=\"https://colab.research.google.com/assets/colab-badge.svg\" alt=\"Open In Colab\"/></a>"
      ]
    },
    {
      "cell_type": "code",
      "execution_count": 3,
      "metadata": {},
      "outputs": [
        {
          "name": "stdout",
          "output_type": "stream",
          "text": [
            "/home/wangzhe/RL4LM_PI/scripts/pi\n"
          ]
        }
      ],
      "source": [
        "import os\n",
        "current_path = os.getcwd()\n",
        "print(current_path)"
      ]
    },
    {
      "cell_type": "code",
      "execution_count": 14,
      "metadata": {
        "colab": {
          "base_uri": "https://localhost:8080/"
        },
        "id": "Sy-f-PPwMJmH",
        "outputId": "c9b03a71-92b1-4567-e8fa-e198eb82ce5f"
      },
      "outputs": [
        {
          "name": "stdout",
          "output_type": "stream",
          "text": [
            "230\n",
            "115\n"
          ]
        }
      ],
      "source": [
        "import os\n",
        "import pandas as pd\n",
        "import numpy as np\n",
        "\n",
        "df = pd.read_json(\n",
        "    \"https://github.com/HumanCompatibleAI/tensor-trust-data/raw/main/detecting-extractions/v1/prompt_extraction_detection.jsonl\",\n",
        "    lines=True,\n",
        ").set_index(\"sample_id\")\n",
        "print(len(df))\n",
        "\n",
        "df = df[df['is_prompt_extraction']]\n",
        "print(len(df))\n",
        "\n",
        "size = len(df)\n",
        "\n",
        "# save data path\n",
        "current_path = os.getcwd()\n",
        "data_folder = current_path\n",
        "\n",
        "# set ratio\n",
        "train_ratio = 0.8\n",
        "validation_ratio = 0.1\n",
        "test_ratio = 0.1\n",
        "\n",
        "# split data\n",
        "train_end = int(train_ratio*size)\n",
        "val_end = train_end + int(validation_ratio*size)\n",
        "\n",
        "train_df = df.iloc[:train_end][['llm_output', 'access_code']]\n",
        "val_df = df.iloc[train_end:val_end][['llm_output', 'access_code']]\n",
        "test_df = df.iloc[val_end:][['llm_output', 'access_code']]\n",
        "\n",
        "base_folder = os.path.join(data_folder, 'pi_data', 'pi_ext_data')\n",
        "\n",
        "if os.path.exists(base_folder):\n",
        "    pass\n",
        "else:\n",
        "    os.makedirs(base_folder)\n",
        "train_df.to_json(f'{base_folder}/train.json', orient='records', lines=True)\n",
        "val_df.to_json(f'{base_folder}/val.json', orient='records', lines=True)\n",
        "test_df.to_json(f'{base_folder}/test.json', orient='records', lines=True)\n"
      ]
    }
  ],
  "metadata": {
    "colab": {
      "authorship_tag": "ABX9TyML+UBu0qtoK9P/vNR32UrQ",
      "include_colab_link": true,
      "provenance": []
    },
    "kernelspec": {
      "display_name": "Python 3",
      "name": "python3"
    },
    "language_info": {
      "codemirror_mode": {
        "name": "ipython",
        "version": 3
      },
      "file_extension": ".py",
      "mimetype": "text/x-python",
      "name": "python",
      "nbconvert_exporter": "python",
      "pygments_lexer": "ipython3",
      "version": "3.8.10"
    }
  },
  "nbformat": 4,
  "nbformat_minor": 0
}
